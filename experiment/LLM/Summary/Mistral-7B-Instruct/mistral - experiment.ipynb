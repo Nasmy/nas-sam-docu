{
 "cells": [
  {
   "cell_type": "code",
   "execution_count": null,
   "id": "2c504564",
   "metadata": {},
   "outputs": [],
   "source": [
    "from langchain.llms import CTransformers\n",
    "from langchain import PromptTemplate, LLMChain\n",
    "from ctransformers import AutoModelForCausalLM,AutoConfig\n",
    "import gradio as gr\n",
    "import time"
   ]
  },
  {
   "cell_type": "code",
   "execution_count": null,
   "id": "d2f2c110",
   "metadata": {},
   "outputs": [],
   "source": [
    "llm = AutoModelForCausalLM.from_pretrained('mistral-7b-instruct-v0.1.Q8_0.gguf',\n",
    "                                          model_type= 'llama',\n",
    "                                          max_new_tokens= 1096,\n",
    "                                          repetition_penalty= 1.18,\n",
    "                                          temperature= 0.0,\n",
    "                                          top_p = 1.0\n",
    "                                          )"
   ]
  },
  {
   "cell_type": "code",
   "execution_count": null,
   "id": "d72627f8",
   "metadata": {},
   "outputs": [],
   "source": [
    "input_text = \"\"\"SAR Filing Request: The information contained in this advisory is derived FinCEN requests financial from FinCEN's analysis of cyber- and ransomware- institutions reference this advisory related Bank Secrecy Act (BSA) data, open source in SAR field 2 (Filing Institution reporting, and law enforcement partners.\\nNote to FinCEN) and the narrative by including the following key Ransomware is a form of malicious software term: \\\"CYBER FIN-2020-A006\\\" (\\\"malware\\\") designed to block access to a computer and select SAR field 42 (Cyber system or data, often by encrypting data or programs Event).\\nAdditional guidance on on information technology (IT) systems to extort filing SARs appears near the end of ransom payments from victims in exchange for this advisory.\\nBoth extortion and computer fraud and abuse are specified unlawful activities and predicate offenses to money laundering.\\nSee 18 USC  1956(c)(7).\"\"\""
   ]
  },
  {
   "cell_type": "code",
   "execution_count": null,
   "id": "65344a51",
   "metadata": {},
   "outputs": [],
   "source": [
    "prompt = f'''<s>[INST] You are an expert of Regulatory Compliance. Can you provide a comprehensive summary of the given text? The summary should cover all the key points and main ideas presented in the original text, providing a clear and accurate overview without omitting any important information.\n",
    "        Write a detailed summary of the following:\n",
    "        {input_text} [/INST]'''"
   ]
  },
  {
   "cell_type": "code",
   "execution_count": null,
   "id": "c8899e1c",
   "metadata": {},
   "outputs": [],
   "source": [
    "response = llm(prompt)"
   ]
  },
  {
   "cell_type": "code",
   "execution_count": null,
   "id": "2598f852",
   "metadata": {},
   "outputs": [],
   "source": [
    "response"
   ]
  },
  {
   "cell_type": "code",
   "execution_count": null,
   "id": "90f923ba",
   "metadata": {},
   "outputs": [],
   "source": []
  }
 ],
 "metadata": {
  "kernelspec": {
   "display_name": "Python 3 (ipykernel)",
   "language": "python",
   "name": "python3"
  },
  "language_info": {
   "codemirror_mode": {
    "name": "ipython",
    "version": 3
   },
   "file_extension": ".py",
   "mimetype": "text/x-python",
   "name": "python",
   "nbconvert_exporter": "python",
   "pygments_lexer": "ipython3",
   "version": "3.8.18"
  }
 },
 "nbformat": 4,
 "nbformat_minor": 5
}
