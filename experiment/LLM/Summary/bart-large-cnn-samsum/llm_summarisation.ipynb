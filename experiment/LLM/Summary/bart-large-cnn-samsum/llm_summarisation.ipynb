{
 "cells": [
  {
   "cell_type": "markdown",
   "metadata": {},
   "source": [
    "### Load libraries"
   ]
  },
  {
   "cell_type": "markdown",
   "metadata": {},
   "source": [
    "https://huggingface.co/philschmid/bart-large-cnn-samsum"
   ]
  },
  {
   "cell_type": "code",
   "execution_count": 1,
   "metadata": {},
   "outputs": [
    {
     "name": "stderr",
     "output_type": "stream",
     "text": [
      "/home/khitish/anaconda3/envs/llm/lib/python3.8/site-packages/tqdm/auto.py:21: TqdmWarning: IProgress not found. Please update jupyter and ipywidgets. See https://ipywidgets.readthedocs.io/en/stable/user_install.html\n",
      "  from .autonotebook import tqdm as notebook_tqdm\n"
     ]
    }
   ],
   "source": [
    "from transformers import AutoModelForSeq2SeqLM, AutoTokenizer"
   ]
  },
  {
   "cell_type": "markdown",
   "metadata": {},
   "source": [
    "### Load models"
   ]
  },
  {
   "cell_type": "code",
   "execution_count": 2,
   "metadata": {},
   "outputs": [],
   "source": [
    "#path_tokenizer=\"philschmid/bart-large-cnn-samsum\"\n",
    "#path_model=\"philschmid/bart-large-cnn-samsum\"\n",
    "\n",
    "path_tokenizer=\"./tokenizer\" #\"sshleifer/distilbart-cnn-12-6\"\n",
    "path_model=\"./model\" #\"sshleifer/distilbart-cnn-12-6\"\n",
    "\n",
    "tokenizer = AutoTokenizer.from_pretrained(path_tokenizer)\n",
    "\n",
    "# decoder attention type can't be changed & will be \"original_full\"\n",
    "# you can change `attention_type` (encoder only) to full attention like this:\n",
    "model = AutoModelForSeq2SeqLM.from_pretrained(path_model)\n",
    "\n",
    "#change `block_size` & `num_random_blocks` like this:\n",
    "#model = BigBirdPegasusForConditionalGeneration.from_pretrained(path_model,block_size=16, num_random_blocks=2) "
   ]
  },
  {
   "cell_type": "markdown",
   "metadata": {},
   "source": [
    "### Save models"
   ]
  },
  {
   "cell_type": "code",
   "execution_count": null,
   "metadata": {},
   "outputs": [],
   "source": [
    "#tokenizer.save_pretrained(\"./tokenizer\")\n",
    "#model.save_pretrained(\"./model\")"
   ]
  },
  {
   "cell_type": "markdown",
   "metadata": {},
   "source": [
    "### Generate summary"
   ]
  },
  {
   "cell_type": "code",
   "execution_count": 3,
   "metadata": {},
   "outputs": [],
   "source": [
    "# Read the text file\n",
    "text_file_path = \"./input_text.txt\"\n",
    "with open(text_file_path, \"r\") as f:\n",
    "    text = f.read()"
   ]
  },
  {
   "cell_type": "code",
   "execution_count": 5,
   "metadata": {},
   "outputs": [],
   "source": [
    "# Split the input text into chunks\n",
    "chunks = []\n",
    "chunk_size = 1024\n",
    "for i in range(0, len(text), chunk_size):\n",
    "    chunk = text[i:i + chunk_size]\n",
    "    chunks.append(chunk)"
   ]
  },
  {
   "cell_type": "code",
   "execution_count": 6,
   "metadata": {},
   "outputs": [],
   "source": [
    "# Process each chunk separately\n",
    "summaries = []\n",
    "for chunk in chunks:\n",
    "    # Encode the input text\n",
    "    inputs = tokenizer(chunk, return_tensors=\"pt\")\n",
    "\n",
    "    # Generate the summary\n",
    "    summary = model.generate(max_length=500, **inputs)\n",
    "\n",
    "    # Decode the summary\n",
    "    summary_text = tokenizer.batch_decode(summary)[0]\n",
    "\n",
    "    # Add the summary to the list of summaries\n",
    "    summaries.append(summary_text)\n",
    "\n",
    "# Combine the summaries into a single summary\n",
    "combined_summary = \" \".join(summaries)"
   ]
  },
  {
   "cell_type": "code",
   "execution_count": 7,
   "metadata": {},
   "outputs": [],
   "source": [
    "summary_file_path = \"./output_text.txt\"\n",
    "with open(summary_file_path, \"w\") as f:\n",
    "    f.write(combined_summary)"
   ]
  }
 ],
 "metadata": {
  "kernelspec": {
   "display_name": "llm",
   "language": "python",
   "name": "python3"
  },
  "language_info": {
   "codemirror_mode": {
    "name": "ipython",
    "version": 3
   },
   "file_extension": ".py",
   "mimetype": "text/x-python",
   "name": "python",
   "nbconvert_exporter": "python",
   "pygments_lexer": "ipython3",
   "version": "3.8.18"
  },
  "orig_nbformat": 4
 },
 "nbformat": 4,
 "nbformat_minor": 2
}
