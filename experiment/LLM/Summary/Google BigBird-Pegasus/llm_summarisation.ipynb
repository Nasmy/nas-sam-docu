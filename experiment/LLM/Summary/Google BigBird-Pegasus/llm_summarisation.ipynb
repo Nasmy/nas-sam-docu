{
 "cells": [
  {
   "cell_type": "markdown",
   "metadata": {},
   "source": [
    "### Load libraries"
   ]
  },
  {
   "cell_type": "markdown",
   "metadata": {},
   "source": [
    "https://huggingface.co/microsoft/phi-1_5"
   ]
  },
  {
   "cell_type": "code",
   "execution_count": 1,
   "metadata": {},
   "outputs": [
    {
     "name": "stderr",
     "output_type": "stream",
     "text": [
      "/home/khitish/anaconda3/envs/llm/lib/python3.8/site-packages/tqdm/auto.py:21: TqdmWarning: IProgress not found. Please update jupyter and ipywidgets. See https://ipywidgets.readthedocs.io/en/stable/user_install.html\n",
      "  from .autonotebook import tqdm as notebook_tqdm\n"
     ]
    }
   ],
   "source": [
    "from transformers import BigBirdPegasusForConditionalGeneration, AutoTokenizer"
   ]
  },
  {
   "cell_type": "markdown",
   "metadata": {},
   "source": [
    "### Load models"
   ]
  },
  {
   "cell_type": "code",
   "execution_count": 2,
   "metadata": {},
   "outputs": [],
   "source": [
    "path_tokenizer=\"./tokenizer\" #\"google/bigbird-pegasus-large-arxiv\"\n",
    "path_model=\"./model\" #\"google/bigbird-pegasus-large-arxiv\"\n",
    "\n",
    "tokenizer = AutoTokenizer.from_pretrained(path_tokenizer)\n",
    "\n",
    "# decoder attention type can't be changed & will be \"original_full\"\n",
    "# you can change `attention_type` (encoder only) to full attention like this:\n",
    "model = BigBirdPegasusForConditionalGeneration.from_pretrained(path_model,attention_type=\"original_full\")\n",
    "\n",
    "#change `block_size` & `num_random_blocks` like this:\n",
    "#model = BigBirdPegasusForConditionalGeneration.from_pretrained(path_model,block_size=16, num_random_blocks=2) "
   ]
  },
  {
   "cell_type": "markdown",
   "metadata": {},
   "source": [
    "### Save models"
   ]
  },
  {
   "cell_type": "code",
   "execution_count": 3,
   "metadata": {},
   "outputs": [],
   "source": [
    "#tokenizer.save_pretrained(\"./tokenizer\")\n",
    "#model.save_pretrained(\"./model\")"
   ]
  },
  {
   "cell_type": "markdown",
   "metadata": {},
   "source": [
    "### Generate summary"
   ]
  },
  {
   "cell_type": "code",
   "execution_count": 4,
   "metadata": {},
   "outputs": [],
   "source": [
    "# Read the text file\n",
    "text_file_path = \"./input_text.txt\"\n",
    "with open(text_file_path, \"r\") as f:\n",
    "    text = f.read()"
   ]
  },
  {
   "cell_type": "code",
   "execution_count": 5,
   "metadata": {},
   "outputs": [],
   "source": [
    "# Encode the input text\n",
    "inputs = tokenizer(text, return_tensors='pt')\n",
    "\n",
    "# Generate the summary\n",
    "summary = model.generate(**inputs)\n",
    "\n",
    "# Decode the summary\n",
    "summary_text = tokenizer.batch_decode(summary)[0]\n",
    "\n",
    "# Print the summary\n",
    "#print(summary_text)"
   ]
  },
  {
   "cell_type": "code",
   "execution_count": 6,
   "metadata": {},
   "outputs": [],
   "source": [
    "summary_file_path = \"./output_text.txt\"\n",
    "with open(summary_file_path, \"w\") as f:\n",
    "    f.write(summary_text)"
   ]
  }
 ],
 "metadata": {
  "kernelspec": {
   "display_name": "llm",
   "language": "python",
   "name": "python3"
  },
  "language_info": {
   "codemirror_mode": {
    "name": "ipython",
    "version": 3
   },
   "file_extension": ".py",
   "mimetype": "text/x-python",
   "name": "python",
   "nbconvert_exporter": "python",
   "pygments_lexer": "ipython3",
   "version": "3.8.18"
  },
  "orig_nbformat": 4
 },
 "nbformat": 4,
 "nbformat_minor": 2
}
