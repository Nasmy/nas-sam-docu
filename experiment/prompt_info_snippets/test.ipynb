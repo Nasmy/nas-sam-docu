{
 "cells": [
  {
   "cell_type": "code",
   "execution_count": 12,
   "metadata": {},
   "outputs": [],
   "source": [
    "from info_extractor import extract_info"
   ]
  },
  {
   "cell_type": "code",
   "execution_count": 13,
   "metadata": {},
   "outputs": [],
   "source": [
    "# input string\n",
    "text = \"shdfjdf\"\n",
    "\n",
    "# Read the text file\n",
    "text_file_path = \"./input_txt.txt\"\n",
    "with open(text_file_path, \"r\") as f:\n",
    "    text = f.read()"
   ]
  },
  {
   "cell_type": "code",
   "execution_count": 14,
   "metadata": {},
   "outputs": [
    {
     "name": "stdout",
     "output_type": "stream",
     "text": [
      "{\n",
      "    \"Emails\": [],\n",
      "    \"URLs\": [\n",
      "        \"http://www.lch.com/risk-collateral-management/collateral-\"\n",
      "    ],\n",
      "    \"Social Media Handles\": [],\n",
      "    \"Hashtags\": [],\n",
      "    \"File Paths\": [],\n",
      "    \"Percentages\": []\n",
      "}\n"
     ]
    }
   ],
   "source": [
    "print(extract_info(text))"
   ]
  }
 ],
 "metadata": {
  "kernelspec": {
   "display_name": "llm",
   "language": "python",
   "name": "python3"
  },
  "language_info": {
   "codemirror_mode": {
    "name": "ipython",
    "version": 3
   },
   "file_extension": ".py",
   "mimetype": "text/x-python",
   "name": "python",
   "nbconvert_exporter": "python",
   "pygments_lexer": "ipython3",
   "version": "3.8.18"
  }
 },
 "nbformat": 4,
 "nbformat_minor": 2
}
