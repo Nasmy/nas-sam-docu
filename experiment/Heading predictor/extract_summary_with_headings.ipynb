{
 "cells": [
  {
   "cell_type": "code",
   "execution_count": 1,
   "metadata": {},
   "outputs": [],
   "source": [
    "import numpy as np"
   ]
  },
  {
   "cell_type": "code",
   "execution_count": 2,
   "metadata": {},
   "outputs": [],
   "source": [
    "def number_of_headings_to_be_extracted(x):\n",
    "    #Hard coded coefficients and intercepts\n",
    "    coefficients = np.array([[ 0.00000000e+00,  7.96028230e-01, -5.43853715e-02,\n",
    "         2.02783198e-03, -4.47234814e-05,  5.74751738e-07,\n",
    "        -3.89923860e-09,  1.06844198e-11]])\n",
    "    intercept = np.array([3.20906638])\n",
    "\n",
    "    y = intercept[0]\n",
    "    \n",
    "    # Add contribution from each coefficient\n",
    "    for i, coef in enumerate(coefficients[0]):\n",
    "        y += coef * (x**i)\n",
    "\n",
    "    if(y>15): y=15   \n",
    "    return round(y)\n"
   ]
  },
  {
   "cell_type": "code",
   "execution_count": 3,
   "metadata": {},
   "outputs": [],
   "source": [
    "def expand(no_of_predicted_headings, no_of_required_headings, iteration=0):\n",
    "    # Case when each page gets a summary\n",
    "    if no_of_predicted_headings == no_of_required_headings:\n",
    "        print(f\"Iteration {iteration+1}\")\n",
    "        print([1] * no_of_predicted_headings)\n",
    "        return [1] * no_of_predicted_headings\n",
    "\n",
    "    summaries = []\n",
    "    # Start by dividing pages into as many 2s as possible\n",
    "    while no_of_predicted_headings >= 2:\n",
    "        summaries.append(2)\n",
    "        no_of_predicted_headings -= 2\n",
    "    # Add remaining pages as 1s\n",
    "    while no_of_predicted_headings > 0:\n",
    "        summaries.append(1)\n",
    "        no_of_predicted_headings -= 1\n",
    "\n",
    "    # While the number of summaries obtained is less than required,\n",
    "    # split the last '2' into two '1's.\n",
    "    while len(summaries) < no_of_required_headings:\n",
    "        if 2 in summaries:\n",
    "            index_of_last_two = len(summaries) - 1 - summaries[::-1].index(2)  # find last occurrence of 2\n",
    "            summaries.pop(index_of_last_two)  # remove the last 2\n",
    "            summaries.extend([1, 1])  # add two 1s\n",
    "        else:\n",
    "            break  # no more 2s to split\n",
    "    print(f\"Iteration {iteration+1}\")\n",
    "    print(f\"Page spans {summaries}\")\n",
    "    return summaries"
   ]
  },
  {
   "cell_type": "code",
   "execution_count": 4,
   "metadata": {},
   "outputs": [],
   "source": [
    "def shrink(no_of_predicted_headings, no_of_required_headings):\n",
    "    n = no_of_predicted_headings\n",
    "    iteration = 1\n",
    "\n",
    "    while True:\n",
    "        print(f\"Iteration {iteration}\")\n",
    "        summaries = []\n",
    "\n",
    "        # Check if n is odd\n",
    "        if n % 2 != 0:\n",
    "            # Append (n-1)/2 number of 2s\n",
    "            for _ in range((n - 1) // 2):\n",
    "                summaries.append(2)\n",
    "            summaries.append(1)  # for the last page\n",
    "            n = len(summaries)  # update n for next iteration\n",
    "        else:  # if n is even\n",
    "            # Append n/2 number of 2s\n",
    "            for _ in range(n // 2):\n",
    "                summaries.append(2)\n",
    "            n = len(summaries)  # update n for next iteration\n",
    "        \n",
    "        print(f\"Page spans {summaries}\")\n",
    "        print(\"-----\" * 5)\n",
    "\n",
    "        # Breaking condition: Stop when n is less than or equal to no_of_required_summaries.\n",
    "        if n <= no_of_required_headings*2:\n",
    "            break\n",
    "\n",
    "        iteration += 1\n",
    "\n",
    "    return n, iteration"
   ]
  },
  {
   "cell_type": "code",
   "execution_count": 5,
   "metadata": {},
   "outputs": [],
   "source": [
    "def predict_pagespan_headings(number_of_pages):\n",
    "    number_of_headings = number_of_headings_to_be_extracted(number_of_pages)\n",
    "    if number_of_pages==number_of_headings:\n",
    "        expand(number_of_pages,number_of_headings)\n",
    "    if number_of_pages>=(number_of_headings*2):\n",
    "        if number_of_pages==(number_of_headings*2):\n",
    "            shrink(number_of_pages, number_of_headings)\n",
    "        else:\n",
    "            n,iteration=shrink(number_of_pages, number_of_headings)\n",
    "            expand(n,number_of_headings,iteration)\n",
    "    if (number_of_pages<(number_of_headings*2))&(number_of_pages>number_of_headings):\n",
    "        expand(number_of_pages, number_of_headings)\n",
    "    if number_of_pages<number_of_headings:\n",
    "        if number_of_pages==1:\n",
    "            print([number_of_headings])\n",
    "        else:\n",
    "            expand(number_of_headings, number_of_pages)"
   ]
  },
  {
   "cell_type": "code",
   "execution_count": 10,
   "metadata": {},
   "outputs": [
    {
     "name": "stdout",
     "output_type": "stream",
     "text": [
      "Iteration 1\n",
      "Page spans [2, 2, 2, 2, 2, 2, 2, 2]\n",
      "-------------------------\n"
     ]
    }
   ],
   "source": [
    "number_of_pages=16\n",
    "predict_pagespan_headings(number_of_pages)\n"
   ]
  }
 ],
 "metadata": {
  "kernelspec": {
   "display_name": "llm",
   "language": "python",
   "name": "python3"
  },
  "language_info": {
   "codemirror_mode": {
    "name": "ipython",
    "version": 3
   },
   "file_extension": ".py",
   "mimetype": "text/x-python",
   "name": "python",
   "nbconvert_exporter": "python",
   "pygments_lexer": "ipython3",
   "version": "3.8.18"
  },
  "orig_nbformat": 4
 },
 "nbformat": 4,
 "nbformat_minor": 2
}
