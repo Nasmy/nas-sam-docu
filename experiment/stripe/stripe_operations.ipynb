{
 "cells": [
  {
   "cell_type": "code",
   "execution_count": 1,
   "metadata": {
    "ExecuteTime": {
     "end_time": "2023-10-21T06:42:55.775795323Z",
     "start_time": "2023-10-21T06:42:55.739809937Z"
    }
   },
   "outputs": [],
   "source": [
    "import os\n",
    "import time\n",
    "import stripe\n",
    "\n",
    "#from utils.custom_exceptions import RaiseCustomException"
   ]
  },
  {
   "cell_type": "code",
   "execution_count": 2,
   "metadata": {
    "ExecuteTime": {
     "end_time": "2023-10-21T06:42:55.777617025Z",
     "start_time": "2023-10-21T06:42:55.775599324Z"
    }
   },
   "outputs": [],
   "source": [
    "stripe.api_key = \"sk_test_51O21ZuEIx0QzrdrDkRpaZAixfOxeamUkUp18LW2IxRorplnTTjC2Fd7lMZHwqBVNMKkl3pV6cPFR4Wuq4KGS34Fm003470GztC\""
   ]
  },
  {
   "cell_type": "markdown",
   "metadata": {},
   "source": [
    "### Create stripe customer"
   ]
  },
  {
   "cell_type": "markdown",
   "metadata": {},
   "source": [
    "##### Function definition"
   ]
  },
  {
   "cell_type": "code",
   "execution_count": 3,
   "metadata": {
    "ExecuteTime": {
     "end_time": "2023-10-18T12:19:57.038451494Z",
     "start_time": "2023-10-18T12:19:57.024483273Z"
    }
   },
   "outputs": [],
   "source": [
    "def create_stripe_customer(email=None, name=None, description=None, metadata=None):\n",
    "    \"\"\"\n",
    "    :param email: str - Email address of the customer.\n",
    "    :param name: str - Full name of the customer.\n",
    "    :param description: str - Optional description for the customer.\n",
    "    :param metadata: dict - Optional metadata for the customer.\n",
    "    :return: dict - Details of the created customer or None if there was an error.\n",
    "    \"\"\"\n",
    "    try:\n",
    "        customer = stripe.Customer.create(email=email, name=name, description=description, metadata=metadata)\n",
    "        return customer[\"id\"]\n",
    "    except stripe.error.StripeError as e:\n",
    "        raise Exception(f\"Failed to create stripe customer: {e}\")\n"
   ]
  },
  {
   "cell_type": "markdown",
   "metadata": {},
   "source": [
    "##### Function call"
   ]
  },
  {
   "cell_type": "code",
   "execution_count": 4,
   "metadata": {
    "ExecuteTime": {
     "end_time": "2023-10-18T12:19:59.093501751Z",
     "start_time": "2023-10-18T12:19:58.593558375Z"
    }
   },
   "outputs": [
    {
     "data": {
      "text/plain": "'cus_OqFDzaQXQdrkAn'"
     },
     "execution_count": 4,
     "metadata": {},
     "output_type": "execute_result"
    }
   ],
   "source": [
    "customer_id = create_stripe_customer(email=\"k2@k.com\", name=\"k m\", description=\"Test customer\", metadata={\"user_id\": \"docudive id\"})\n",
    "customer_id"
   ]
  },
  {
   "cell_type": "markdown",
   "metadata": {},
   "source": [
    "### Create subscription for customer"
   ]
  },
  {
   "cell_type": "markdown",
   "metadata": {},
   "source": [
    "##### Function definition"
   ]
  },
  {
   "cell_type": "code",
   "execution_count": 3,
   "outputs": [],
   "source": [
    "customer_id = \"cus_OqIRXeiTNJWyvD\""
   ],
   "metadata": {
    "collapsed": false,
    "ExecuteTime": {
     "end_time": "2023-10-21T06:42:59.595417384Z",
     "start_time": "2023-10-21T06:42:59.588848478Z"
    }
   }
  },
  {
   "cell_type": "code",
   "execution_count": 4,
   "metadata": {
    "ExecuteTime": {
     "end_time": "2023-10-21T06:43:00.098675872Z",
     "start_time": "2023-10-21T06:43:00.090524731Z"
    }
   },
   "outputs": [],
   "source": [
    "def create_subscription(customer_id, price_id):\n",
    "    \"\"\"\n",
    "    Create a subscription for a customer based on a price.\n",
    "    :param customer_id: The Stripe ID of the customer.\n",
    "    :param price_id: The Stripe ID of the price associated with the product. Displayed in the product details page\n",
    "    :return: The subscription object if successful, otherwise an error.\n",
    "    \"\"\"\n",
    "    try:\n",
    "        subscription = stripe.Subscription.create(\n",
    "            customer=customer_id,\n",
    "            items=[{'price': price_id}],\n",
    "            expand=['latest_invoice.payment_intent']\n",
    "        )\n",
    "        return subscription #this subscription item id should be stored in DB. This will be used in report_usage() function\n",
    "    except stripe.error.StripeError as e:\n",
    "        raise Exception(f\"Failed to create subscription: {e}\")"
   ]
  },
  {
   "cell_type": "markdown",
   "metadata": {},
   "source": [
    "##### Function call"
   ]
  },
  {
   "cell_type": "code",
   "execution_count": 8,
   "metadata": {
    "ExecuteTime": {
     "end_time": "2023-10-21T06:44:00.118687971Z",
     "start_time": "2023-10-21T06:43:59.193440185Z"
    }
   },
   "outputs": [
    {
     "data": {
      "text/plain": "'si_OrHTcU2wjBtOrJ'"
     },
     "execution_count": 8,
     "metadata": {},
     "output_type": "execute_result"
    }
   ],
   "source": [
    "price_id = \"price_1O21dpEIx0QzrdrDOQ38JaPc\"\n",
    "subscription_data = create_subscription(customer_id, price_id)\n",
    "subscription_item_id = subscription_data[\"items\"][\"data\"][0].id\n",
    "subscription_item_id"
   ]
  },
  {
   "cell_type": "markdown",
   "metadata": {},
   "source": [
    "### Report daily usage"
   ]
  },
  {
   "cell_type": "markdown",
   "metadata": {},
   "source": [
    "##### Function definition"
   ]
  },
  {
   "cell_type": "code",
   "execution_count": 9,
   "outputs": [],
   "source": [
    "subscription_item_id = \"si_OrHTcU2wjBtOrJ\""
   ],
   "metadata": {
    "collapsed": false,
    "ExecuteTime": {
     "end_time": "2023-10-21T06:44:05.839764033Z",
     "start_time": "2023-10-21T06:44:05.826857290Z"
    }
   }
  },
  {
   "cell_type": "code",
   "execution_count": 10,
   "metadata": {
    "ExecuteTime": {
     "end_time": "2023-10-21T06:44:06.193250082Z",
     "start_time": "2023-10-21T06:44:06.184120071Z"
    }
   },
   "outputs": [],
   "source": [
    "def report_usage(subscription_item_id, quantity, timestamp=None): #This should be fired everyday\n",
    "    \"\"\"\n",
    "    Report usage for a metered billing subscription.\n",
    "    :param subscription_item_id: str - The ID of the subscription item.\n",
    "    :param quantity: int - The quantity/amount of usage to report.\n",
    "    :param timestamp: int (optional) - The timestamp at which the usage occurred (in Unix time). Defaults to current time.\n",
    "    :return: dict - Details of the created usage record.\n",
    "    \"\"\"\n",
    "    try:\n",
    "        usage_record = stripe.UsageRecord.create(\n",
    "            subscription_item=subscription_item_id,\n",
    "            quantity=quantity,\n",
    "            timestamp=timestamp or int(time.time())\n",
    "        )\n",
    "        return usage_record\n",
    "    except stripe.error.StripeError as e:\n",
    "        raise Exception(f\"Failed to report usage: {e}\")"
   ]
  },
  {
   "cell_type": "markdown",
   "metadata": {},
   "source": [
    "##### Function call"
   ]
  },
  {
   "cell_type": "code",
   "execution_count": 12,
   "metadata": {
    "ExecuteTime": {
     "end_time": "2023-10-21T06:44:17.505298778Z",
     "start_time": "2023-10-21T06:44:17.168799458Z"
    }
   },
   "outputs": [
    {
     "data": {
      "text/plain": "<UsageRecord usage_record id=mbur_1O3YuzEIx0QzrdrDwQGURoLP at 0x7fb28070eed0> JSON: {\n  \"id\": \"mbur_1O3YuzEIx0QzrdrDwQGURoLP\",\n  \"livemode\": false,\n  \"object\": \"usage_record\",\n  \"quantity\": 1000,\n  \"subscription_item\": \"si_OrHTcU2wjBtOrJ\",\n  \"timestamp\": 1697870657\n}"
     },
     "execution_count": 12,
     "metadata": {},
     "output_type": "execute_result"
    }
   ],
   "source": [
    "quantity = 1000  # The actual usage amount, e.g., credit point.\n",
    "report_usage(subscription_item_id, quantity)"
   ]
  },
  {
   "cell_type": "markdown",
   "source": [],
   "metadata": {
    "collapsed": false
   }
  },
  {
   "cell_type": "markdown",
   "metadata": {},
   "source": [
    "### Billing history"
   ]
  },
  {
   "cell_type": "markdown",
   "metadata": {},
   "source": [
    "##### Function definition"
   ]
  },
  {
   "cell_type": "code",
   "execution_count": 15,
   "metadata": {
    "ExecuteTime": {
     "end_time": "2023-10-21T06:46:25.485629052Z",
     "start_time": "2023-10-21T06:46:25.478575285Z"
    }
   },
   "outputs": [],
   "source": [
    "from datetime import datetime\n",
    "def get_invoices_for_customer(customer_id, limit=12):\n",
    "    \"\"\"\n",
    "    Retrieve a list of invoices for a specific customer with required details.\n",
    "    :param customer_id: str - The Stripe customer ID.\n",
    "    :param limit: int - The number of records to retrieve (maximum is 100).\n",
    "    :return: list - List of invoices with specified details.\n",
    "    \"\"\"\n",
    "    try:\n",
    "        invoices = stripe.Invoice.list(customer=customer_id, limit=limit)\n",
    "    except stripe.error.StripeError as e:\n",
    "        raise Exception(f\"Failed to retrieve invoices: {e}\")\n",
    "\n",
    "    invoice_details = []\n",
    "\n",
    "    for invoice in invoices:\n",
    "        # Converting the Unix timestamp to a datetime object\n",
    "        dt_object = datetime.fromtimestamp(invoice.created)\n",
    "\n",
    "        detail = {\n",
    "            'invoice_number': invoice.number,\n",
    "            'amount_due': invoice.amount_due / 100.0,\n",
    "            'currency': invoice.currency,\n",
    "            'status': invoice.status,\n",
    "            'created_date': dt_object.isoformat(),\n",
    "            'pdf_link': invoice.invoice_pdf\n",
    "        }\n",
    "        invoice_details.append(detail)\n",
    "\n",
    "    return invoice_details\n"
   ]
  },
  {
   "cell_type": "markdown",
   "metadata": {},
   "source": [
    "##### Function call"
   ]
  },
  {
   "cell_type": "code",
   "execution_count": 16,
   "metadata": {
    "ExecuteTime": {
     "end_time": "2023-10-21T06:46:26.970436765Z",
     "start_time": "2023-10-21T06:46:26.377930573Z"
    }
   },
   "outputs": [
    {
     "data": {
      "text/plain": "[{'invoice_number': 'F8E8E635-0004',\n  'amount_due': 0.0,\n  'currency': 'usd',\n  'status': 'paid',\n  'created_date': '2023-10-21T12:13:59',\n  'pdf_link': 'https://pay.stripe.com/invoice/acct_1O21ZuEIx0QzrdrD/test_YWNjdF8xTzIxWnVFSXgwUXpyZHJELF9PckhUTlk5SHc5WXp0bDFyRnYweHpxQVFMM0VDUHZpLDg4NDExNTg20200f6pXtwZL/pdf?s=ap'},\n {'invoice_number': 'F8E8E635-0003',\n  'amount_due': 0.0,\n  'currency': 'usd',\n  'status': 'paid',\n  'created_date': '2023-10-18T21:21:05',\n  'pdf_link': 'https://pay.stripe.com/invoice/acct_1O21ZuEIx0QzrdrD/test_YWNjdF8xTzIxWnVFSXgwUXpyZHJELF9PcUljaWRpYmRSdXl6RzBuMkZmNXdZM2ZpZUFKS1hRLDg4NDExNTg2020055hAsRBu/pdf?s=ap'},\n {'invoice_number': 'F8E8E635-0002',\n  'amount_due': 0.0,\n  'currency': 'usd',\n  'status': 'paid',\n  'created_date': '2023-10-18T21:21:03',\n  'pdf_link': 'https://pay.stripe.com/invoice/acct_1O21ZuEIx0QzrdrD/test_YWNjdF8xTzIxWnVFSXgwUXpyZHJELF9PcUljZGVJdjdIWHptVUkwRTNyZTBmVVh2dFJUN3gzLDg4NDExNTg202008obQZPoU/pdf?s=ap'},\n {'invoice_number': 'F8E8E635-0001',\n  'amount_due': 0.0,\n  'currency': 'usd',\n  'status': 'paid',\n  'created_date': '2023-10-18T21:14:22',\n  'pdf_link': 'https://pay.stripe.com/invoice/acct_1O21ZuEIx0QzrdrD/test_YWNjdF8xTzIxWnVFSXgwUXpyZHJELF9PcUlXRGx4ZlhDTHJNaW5TcE5VelVIN3ZYd0x5eWdwLDg4NDExNTg20200ZTUDNmZW/pdf?s=ap'}]"
     },
     "execution_count": 16,
     "metadata": {},
     "output_type": "execute_result"
    }
   ],
   "source": [
    "billing_history = get_invoices_for_customer(customer_id, limit=12)\n",
    "billing_history"
   ]
  },
  {
   "cell_type": "code",
   "execution_count": 20,
   "outputs": [
    {
     "data": {
      "text/plain": "[{'invoice_number': 'F8E8E635-0001',\n  'amount_due': 0.0,\n  'currency': 'usd',\n  'status': 'paid',\n  'created_date': 1697643862,\n  'pdf_link': 'https://pay.stripe.com/invoice/acct_1O21ZuEIx0QzrdrD/test_YWNjdF8xTzIxWnVFSXgwUXpyZHJELF9PcUlXRGx4ZlhDTHJNaW5TcE5VelVIN3ZYd0x5eWdwLDg4MTg1MDIz02006V9WA5Nw/pdf?s=ap'}]"
     },
     "execution_count": 20,
     "metadata": {},
     "output_type": "execute_result"
    }
   ],
   "source": [
    "billing_history"
   ],
   "metadata": {
    "collapsed": false,
    "ExecuteTime": {
     "end_time": "2023-10-18T15:50:26.030807942Z",
     "start_time": "2023-10-18T15:50:26.023407691Z"
    }
   }
  },
  {
   "cell_type": "markdown",
   "metadata": {},
   "source": [
    "### Billing preferences"
   ]
  },
  {
   "cell_type": "markdown",
   "metadata": {},
   "source": [
    "##### Function definition"
   ]
  },
  {
   "cell_type": "code",
   "execution_count": 12,
   "metadata": {
    "ExecuteTime": {
     "end_time": "2023-10-18T12:27:19.639731779Z",
     "start_time": "2023-10-18T12:27:19.597757233Z"
    }
   },
   "outputs": [],
   "source": [
    "def update_customer_billing_details(customer_id, billing_details):\n",
    "    \"\"\"\n",
    "    Update the billing details for a specific Stripe customer.\n",
    "    :param customer_id: str - The Stripe customer ID.\n",
    "    :param billing_details: dict - A dictionary containing billing details like name, address, email, etc.\n",
    "    :return: dict - Updated customer object or None if there was an error.\n",
    "    \"\"\"\n",
    "    try:\n",
    "        customer = stripe.Customer.modify(\n",
    "            customer_id,\n",
    "            name=billing_details.get(\"name\"),\n",
    "            email=billing_details.get(\"email\"),\n",
    "            phone=billing_details.get(\"phone\"),\n",
    "            address={\n",
    "                \"line1\": billing_details.get(\"line1\"),\n",
    "                \"line2\": billing_details.get(\"line2\"),\n",
    "                \"city\": billing_details.get(\"city\"),\n",
    "                \"state\": billing_details.get(\"state\"),\n",
    "                \"postal_code\": billing_details.get(\"postal_code\"),\n",
    "                \"country\": billing_details.get(\"country\")\n",
    "            }\n",
    "        )\n",
    "        return customer\n",
    "    except stripe.error.StripeError as e:\n",
    "        raise Exception(f\"Failed to update billing details: {e}\")"
   ]
  },
  {
   "cell_type": "markdown",
   "metadata": {},
   "source": [
    "##### Function call"
   ]
  },
  {
   "cell_type": "code",
   "execution_count": 13,
   "metadata": {
    "ExecuteTime": {
     "end_time": "2023-10-18T12:27:22.702021077Z",
     "start_time": "2023-10-18T12:27:22.161763852Z"
    }
   },
   "outputs": [
    {
     "data": {
      "text/plain": "22"
     },
     "execution_count": 13,
     "metadata": {},
     "output_type": "execute_result"
    }
   ],
   "source": [
    "billing_info = {\n",
    "    \"name\": \"John Doe\",\n",
    "    \"email\": \"john@example.com\",\n",
    "    \"phone\": \"+1234567890\",\n",
    "    \"line1\": \"123 Street Ave\",\n",
    "    \"line2\": \"Apt 4B\",\n",
    "    \"city\": \"City\",\n",
    "    \"state\": \"State\",\n",
    "    \"postal_code\": \"12345\",\n",
    "    \"country\": \"US\"\n",
    "}\n",
    "\n",
    "updated_customer = update_customer_billing_details(customer_id, billing_info) \n",
    "len(updated_customer)"
   ]
  },
  {
   "cell_type": "code",
   "execution_count": 14,
   "outputs": [
    {
     "data": {
      "text/plain": "<Customer customer id=cus_OqFDzaQXQdrkAn at 0x7f44d12d33d0> JSON: {\n  \"address\": {\n    \"city\": \"City\",\n    \"country\": \"US\",\n    \"line1\": \"123 Street Ave\",\n    \"line2\": \"Apt 4B\",\n    \"postal_code\": \"12345\",\n    \"state\": \"State\"\n  },\n  \"balance\": 0,\n  \"created\": 1697631598,\n  \"currency\": \"usd\",\n  \"default_source\": null,\n  \"delinquent\": false,\n  \"description\": \"Test customer\",\n  \"discount\": null,\n  \"email\": \"john@example.com\",\n  \"id\": \"cus_OqFDzaQXQdrkAn\",\n  \"invoice_prefix\": \"F86DB4B3\",\n  \"invoice_settings\": {\n    \"custom_fields\": null,\n    \"default_payment_method\": null,\n    \"footer\": null,\n    \"rendering_options\": null\n  },\n  \"livemode\": false,\n  \"metadata\": {\n    \"user_id\": \"docudive id\"\n  },\n  \"name\": \"John Doe\",\n  \"next_invoice_sequence\": 2,\n  \"object\": \"customer\",\n  \"phone\": \"+1234567890\",\n  \"preferred_locales\": [],\n  \"shipping\": null,\n  \"tax_exempt\": \"none\",\n  \"test_clock\": null\n}"
     },
     "execution_count": 14,
     "metadata": {},
     "output_type": "execute_result"
    }
   ],
   "source": [
    "updated_customer"
   ],
   "metadata": {
    "collapsed": false,
    "ExecuteTime": {
     "end_time": "2023-10-18T12:27:56.716124250Z",
     "start_time": "2023-10-18T12:27:56.670034482Z"
    }
   }
  },
  {
   "cell_type": "markdown",
   "metadata": {},
   "source": [
    "### Payment methods - Retrive"
   ]
  },
  {
   "cell_type": "markdown",
   "metadata": {},
   "source": [
    "##### Function definition"
   ]
  },
  {
   "cell_type": "code",
   "execution_count": 77,
   "metadata": {},
   "outputs": [],
   "source": [
    "def retrieve_all_payment_methods(customer_id):\n",
    "    \"\"\"\n",
    "    Retrieve all payment methods associated with a specific Stripe customer.\n",
    "    :param customer_id: str - ID of the Stripe customer.\n",
    "    :return: list - List of payment methods or None if there was an error.\n",
    "    \"\"\"\n",
    "    try:\n",
    "        payment_methods = stripe.PaymentMethod.list(customer=customer_id).get(\"data\")\n",
    "        return payment_methods\n",
    "    except stripe.error.StripeError as e:\n",
    "        raise Exception(f\"Failed to retrieve payment methods: {e}\")"
   ]
  },
  {
   "cell_type": "markdown",
   "metadata": {},
   "source": [
    "##### Function call"
   ]
  },
  {
   "cell_type": "code",
   "execution_count": 78,
   "metadata": {},
   "outputs": [
    {
     "data": {
      "text/plain": [
       "[]"
      ]
     },
     "execution_count": 78,
     "metadata": {},
     "output_type": "execute_result"
    }
   ],
   "source": [
    "payment_methods = retrieve_all_payment_methods(customer_id)\n",
    "payment_methods"
   ]
  },
  {
   "cell_type": "markdown",
   "metadata": {},
   "source": [
    "### Payment methods - Add"
   ]
  },
  {
   "cell_type": "markdown",
   "metadata": {},
   "source": [
    "##### Function definition"
   ]
  },
  {
   "cell_type": "code",
   "execution_count": 59,
   "metadata": {},
   "outputs": [],
   "source": [
    "def add_payment_method(customer_id, payment_type, payment_details):\n",
    "    \"\"\"\n",
    "    Add a payment method (card/bank_account) to a Stripe customer.\n",
    "    :param customer_id: str - The Stripe customer ID.\n",
    "    :param payment_type: str - Type of payment method ('card' or 'bank_account').\n",
    "    :param payment_details: dict - The payment details.\n",
    "    :return: str - ID of the added payment method or None if there was an error.\n",
    "    \"\"\"\n",
    "    try:\n",
    "        # Convert payment details to a token\n",
    "        token = stripe.Token.create(\n",
    "            payment_type, payment_details\n",
    "        )\n",
    "        \n",
    "        # Add token as a payment method to the customer\n",
    "        payment_method = stripe.PaymentMethod.attach(\n",
    "            token.id,\n",
    "            customer=customer_id\n",
    "        )\n",
    "\n",
    "        return payment_method.id\n",
    "    except stripe.error.StripeError as e:\n",
    "        raise Exception(f\"Failed to add payment method: {e}\")"
   ]
  },
  {
   "cell_type": "markdown",
   "metadata": {},
   "source": [
    "##### Function call"
   ]
  },
  {
   "cell_type": "code",
   "execution_count": 1,
   "metadata": {
    "ExecuteTime": {
     "end_time": "2023-12-04T03:10:56.534210414Z",
     "start_time": "2023-12-04T03:10:56.529530830Z"
    }
   },
   "outputs": [],
   "source": [
    "card_details = {\n",
    "    \"number\": \"4242424242424242\",\n",
    "    \"exp_month\": 12,\n",
    "    \"exp_year\": 2024,\n",
    "    \"cvc\": \"123\"\n",
    "}\n",
    "\n",
    "card_details_2 = {\n",
    "    \"number\": \"5555555555554444\",\n",
    "    \"exp_month\": 11,\n",
    "    \"exp_year\": 2025,\n",
    "    \"cvc\": \"123\"\n",
    "}\n",
    "\n",
    "bank_account_details = {\n",
    "    \"country\": \"US\",\n",
    "    \"currency\": \"usd\",\n",
    "    \"account_holder_name\": \"John Doe\",\n",
    "    \"account_holder_type\": \"individual\",\n",
    "    \"routing_number\": \"110000000\",\n",
    "    \"account_number\": \"000123456789\"\n",
    "}\n"
   ]
  },
  {
   "cell_type": "code",
   "execution_count": 2,
   "outputs": [],
   "source": [
    "import time\n",
    "import stripe\n",
    "\n",
    "stripe.api_key = \"pk_test_51O21ZuEIx0QzrdrDLBFzYIFbhTejaCj4ibToyVsBoWK4p3XlrpUFiMjajn3qiaw8cNeFL0jjngMgVhx24ZtIeBCi00kP29Pcr6\""
   ],
   "metadata": {
    "collapsed": false,
    "ExecuteTime": {
     "end_time": "2023-12-04T03:10:57.217168655Z",
     "start_time": "2023-12-04T03:10:57.155233641Z"
    }
   }
  },
  {
   "cell_type": "code",
   "execution_count": 6,
   "outputs": [
    {
     "name": "stdout",
     "output_type": "stream",
     "text": [
      "{\n",
      "  \"billing_details\": {\n",
      "    \"address\": {\n",
      "      \"city\": null,\n",
      "      \"country\": null,\n",
      "      \"line1\": null,\n",
      "      \"line2\": null,\n",
      "      \"postal_code\": null,\n",
      "      \"state\": null\n",
      "    },\n",
      "    \"email\": null,\n",
      "    \"name\": null,\n",
      "    \"phone\": null\n",
      "  },\n",
      "  \"card\": {\n",
      "    \"brand\": \"visa\",\n",
      "    \"checks\": {\n",
      "      \"address_line1_check\": null,\n",
      "      \"address_postal_code_check\": null,\n",
      "      \"cvc_check\": null\n",
      "    },\n",
      "    \"country\": \"US\",\n",
      "    \"exp_month\": 12,\n",
      "    \"exp_year\": 2024,\n",
      "    \"funding\": \"credit\",\n",
      "    \"generated_from\": null,\n",
      "    \"last4\": \"4242\",\n",
      "    \"networks\": {\n",
      "      \"available\": [\n",
      "        \"visa\"\n",
      "      ],\n",
      "      \"preferred\": null\n",
      "    },\n",
      "    \"three_d_secure_usage\": {\n",
      "      \"supported\": true\n",
      "    },\n",
      "    \"wallet\": null\n",
      "  },\n",
      "  \"created\": 1701664273,\n",
      "  \"customer\": null,\n",
      "  \"id\": \"pm_1OJToLEIx0QzrdrDnxIlZjAr\",\n",
      "  \"livemode\": false,\n",
      "  \"object\": \"payment_method\",\n",
      "  \"type\": \"card\"\n",
      "}\n"
     ]
    }
   ],
   "source": [
    "# create payment method for card\n",
    "\n",
    "payment_method_id = stripe.PaymentMethod.create(\n",
    "  type=\"card\",\n",
    "  card=card_details,\n",
    ")\n",
    "print(payment_method_id)"
   ],
   "metadata": {
    "collapsed": false,
    "ExecuteTime": {
     "end_time": "2023-12-04T04:31:13.601272817Z",
     "start_time": "2023-12-04T04:31:13.174736659Z"
    }
   }
  },
  {
   "cell_type": "code",
   "execution_count": 7,
   "outputs": [
    {
     "name": "stdout",
     "output_type": "stream",
     "text": [
      "{\n",
      "  \"billing_details\": {\n",
      "    \"address\": {\n",
      "      \"city\": null,\n",
      "      \"country\": null,\n",
      "      \"line1\": null,\n",
      "      \"line2\": null,\n",
      "      \"postal_code\": null,\n",
      "      \"state\": null\n",
      "    },\n",
      "    \"email\": null,\n",
      "    \"name\": null,\n",
      "    \"phone\": null\n",
      "  },\n",
      "  \"card\": {\n",
      "    \"brand\": \"mastercard\",\n",
      "    \"checks\": {\n",
      "      \"address_line1_check\": null,\n",
      "      \"address_postal_code_check\": null,\n",
      "      \"cvc_check\": null\n",
      "    },\n",
      "    \"country\": \"US\",\n",
      "    \"exp_month\": 11,\n",
      "    \"exp_year\": 2025,\n",
      "    \"funding\": \"credit\",\n",
      "    \"generated_from\": null,\n",
      "    \"last4\": \"4444\",\n",
      "    \"networks\": {\n",
      "      \"available\": [\n",
      "        \"mastercard\"\n",
      "      ],\n",
      "      \"preferred\": null\n",
      "    },\n",
      "    \"three_d_secure_usage\": {\n",
      "      \"supported\": true\n",
      "    },\n",
      "    \"wallet\": null\n",
      "  },\n",
      "  \"created\": 1701664336,\n",
      "  \"customer\": null,\n",
      "  \"id\": \"pm_1OJTpMEIx0QzrdrDGOLTVxlG\",\n",
      "  \"livemode\": false,\n",
      "  \"object\": \"payment_method\",\n",
      "  \"type\": \"card\"\n",
      "}\n"
     ]
    }
   ],
   "source": [
    "payment_method_id = stripe.PaymentMethod.create(\n",
    "  type=\"card\",\n",
    "  card=card_details_2,\n",
    ")\n",
    "print(payment_method_id)"
   ],
   "metadata": {
    "collapsed": false,
    "ExecuteTime": {
     "end_time": "2023-12-04T04:32:16.767545540Z",
     "start_time": "2023-12-04T04:32:16.386924563Z"
    }
   }
  },
  {
   "cell_type": "code",
   "execution_count": null,
   "outputs": [],
   "source": [],
   "metadata": {
    "collapsed": false
   }
  }
 ],
 "metadata": {
  "kernelspec": {
   "display_name": "docudive",
   "language": "python",
   "name": "python3"
  },
  "language_info": {
   "codemirror_mode": {
    "name": "ipython",
    "version": 3
   },
   "file_extension": ".py",
   "mimetype": "text/x-python",
   "name": "python",
   "nbconvert_exporter": "python",
   "pygments_lexer": "ipython3",
   "version": "3.9.18"
  },
  "orig_nbformat": 4
 },
 "nbformat": 4,
 "nbformat_minor": 2
}
